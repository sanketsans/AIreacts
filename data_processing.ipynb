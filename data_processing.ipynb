{
 "cells": [
  {
   "cell_type": "code",
   "execution_count": 1,
   "metadata": {},
   "outputs": [],
   "source": [
    "%matplotlib inline\n",
    "import numpy as np\n",
    "import matplotlib.pyplot as plt\n",
    "import cv2"
   ]
  },
  {
   "cell_type": "code",
   "execution_count": 63,
   "metadata": {},
   "outputs": [],
   "source": [
    "vcap = cv2.VideoCapture('harry.webm') # 0=camera\n",
    "vcopy = vcap"
   ]
  },
  {
   "cell_type": "code",
   "execution_count": 64,
   "metadata": {},
   "outputs": [
    {
     "name": "stdout",
     "output_type": "stream",
     "text": [
      "854.0 480.0\n"
     ]
    }
   ],
   "source": [
    "if vcopy.isOpened():\n",
    "    width = vcopy.get(3)\n",
    "    height = vcopy.get(4)\n",
    "    \n",
    "    print(width, height)"
   ]
  },
  {
   "cell_type": "code",
   "execution_count": 65,
   "metadata": {},
   "outputs": [],
   "source": [
    "face_cascade = cv2.CascadeClassifier(cv2.data.haarcascades + 'haarcascade_frontalface_default.xml')"
   ]
  },
  {
   "cell_type": "code",
   "execution_count": 69,
   "metadata": {},
   "outputs": [],
   "source": [
    "while True:\n",
    "    if vcopy.grab():\n",
    "        flag, frame = vcopy.retrieve()\n",
    "        frame = frame[240:700, 250:620] ## GoT frame part\n",
    "#         frame = frame[240:700, 265:618] ## Female Face\n",
    "#         frame = frame[0:100, 0:200]\n",
    "\n",
    "        tight = cv2.Canny(frame, 400, 470)\n",
    "#         gray = cv2.cvtColor(frame, cv2.COLOR_BGR2GRAY)\n",
    "#         contours, hierarchy = cv2.findContours(tight, cv2.RETR_TREE, cv2.CHAIN_APPROX_SIMPLE)\n",
    "#         cframe = cv2.drawContours(frame, contours, -1, (0,255,0), 3)\n",
    "        \n",
    "        if not flag:\n",
    "            continue\n",
    "        else:\n",
    "            cv2.imshow('video', frame) \n",
    "    if cv2.waitKey(33) == ord('a'):\n",
    "        break"
   ]
  },
  {
   "cell_type": "code",
   "execution_count": null,
   "metadata": {},
   "outputs": [],
   "source": []
  }
 ],
 "metadata": {
  "kernelspec": {
   "display_name": "Python 3",
   "language": "python",
   "name": "python3"
  },
  "language_info": {
   "codemirror_mode": {
    "name": "ipython",
    "version": 3
   },
   "file_extension": ".py",
   "mimetype": "text/x-python",
   "name": "python",
   "nbconvert_exporter": "python",
   "pygments_lexer": "ipython3",
   "version": "3.6.9"
  }
 },
 "nbformat": 4,
 "nbformat_minor": 4
}
